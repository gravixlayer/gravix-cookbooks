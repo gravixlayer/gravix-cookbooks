{
 "cells": [
  {
   "cell_type": "markdown",
   "id": "e91b76ce",
   "metadata": {},
   "source": [
    "# Gravix Layer Cookbook: Proactive AI Learning Coach\n",
    "\n",
    "This notebook is an example cookbook demonstrating the Gravix Layer Memory feature through a Proactive AI Learning Coach use case.\n",
    "\n",
    "**What you'll learn**:\n",
    "- How to setup the Gravix Layer client and memory service\n",
    "- How to add manual memories and use infer=True to extract memories from conversations\n",
    "- How to build a scheduled/proactive agent that searches memory, reasons, and acts\n",
    "\n",
    "**Agent's Goal:** To help a user learn a new skill by remembering their long-term goals, tracking their progress, and proactively suggesting next steps.\n",
    "\n",
    "**The Flow:**\n",
    "\n",
    "1. Goal Setting - The user defines their main goal. We manually add this as a core memory.\n",
    "2. Progress Tracking - The user has a conversation about what they've completed. We use `infer=True` to automatically log this progress.\n",
    "3. Proactive Agent Logic - We simulate the agent \"waking up,\" reviewing its memory of the user, and generating a personalized, proactive message to help the user take the next step.\n",
    "\n",
    "Notes:\n",
    "- Make sure `GRAVIXLAYER_API_KEY` is set in your environment before running the notebook.\n",
    "- This is intended as a cookbook recipe for Gravix Layer users."
   ]
  },
  {
   "cell_type": "markdown",
   "id": "4563ca9a",
   "metadata": {},
   "source": [
    "## 1. Setup and Installation\n",
    "\n",
    "First, we install `gravixlayer` and import our libraries. Remember to set your `GRAVIXLAYER_API_KEY` environment variable and restart your kernel."
   ]
  },
  {
   "cell_type": "code",
   "execution_count": 1,
   "id": "8193acfe",
   "metadata": {},
   "outputs": [
    {
     "name": "stdout",
     "output_type": "stream",
     "text": [
      "Requirement already satisfied: gravixlayer in /Users/rupinajay/Developer/gravix/Test/gravix_test/lib/python3.12/site-packages (0.0.40)\n",
      "Requirement already satisfied: requests>=2.25.0 in /Users/rupinajay/Developer/gravix/Test/gravix_test/lib/python3.12/site-packages (from gravixlayer) (2.32.5)\n",
      "Requirement already satisfied: python-dotenv>=0.19.0 in /Users/rupinajay/Developer/gravix/Test/gravix_test/lib/python3.12/site-packages (from gravixlayer) (1.1.1)\n",
      "Requirement already satisfied: charset_normalizer<4,>=2 in /Users/rupinajay/Developer/gravix/Test/gravix_test/lib/python3.12/site-packages (from requests>=2.25.0->gravixlayer) (3.4.3)\n",
      "Requirement already satisfied: idna<4,>=2.5 in /Users/rupinajay/Developer/gravix/Test/gravix_test/lib/python3.12/site-packages (from requests>=2.25.0->gravixlayer) (3.10)\n",
      "Requirement already satisfied: urllib3<3,>=1.21.1 in /Users/rupinajay/Developer/gravix/Test/gravix_test/lib/python3.12/site-packages (from requests>=2.25.0->gravixlayer) (2.5.0)\n",
      "Requirement already satisfied: certifi>=2017.4.17 in /Users/rupinajay/Developer/gravix/Test/gravix_test/lib/python3.12/site-packages (from requests>=2.25.0->gravixlayer) (2025.8.3)\n"
     ]
    }
   ],
   "source": [
    "!pip install gravixlayer"
   ]
  },
  {
   "cell_type": "code",
   "execution_count": 2,
   "id": "d604e02a",
   "metadata": {},
   "outputs": [
    {
     "name": "stdout",
     "output_type": "stream",
     "text": [
      "✅ GravixLayer API Key found.\n"
     ]
    }
   ],
   "source": [
    "import os\n",
    "import time\n",
    "from gravixlayer import GravixLayer\n",
    "\n",
    "# Check for API Key\n",
    "if \"GRAVIXLAYER_API_KEY\" not in os.environ:\n",
    "    print(\"ERROR: GRAVIXLAYER_API_KEY environment variable not set.\")\n",
    "    print(\"Please set it in your terminal and restart this notebook's kernel.\")\n",
    "else:\n",
    "    print(\"✅ GravixLayer API Key found.\")\n",
    "\n",
    "# Initialize the client\n",
    "client = GravixLayer()\n",
    "memory = client.memory\n",
    "\n",
    "# Define a specific user for this agent\n",
    "LEARNER_USER = \"python_learner_88\""
   ]
  },
  {
   "cell_type": "markdown",
   "id": "8a3e65fe",
   "metadata": {},
   "source": [
    "## Part 1: Goal Setting (The First Interaction)\n",
    "\n",
    "The user first tells the agent their main objective. We'll store this as a high-priority, manual memory."
   ]
  },
  {
   "cell_type": "code",
   "execution_count": 3,
   "id": "cd9ce91c",
   "metadata": {},
   "outputs": [
    {
     "name": "stdout",
     "output_type": "stream",
     "text": [
      "Setting main goal for user: python_learner_88...\n",
      "Goal stored: 'The user's primary goal is to learn Python for data science, specifically to get a job in analytics.'\n",
      "Waiting 2 seconds for goal to index...\n"
     ]
    }
   ],
   "source": [
    "print(f\"Setting main goal for user: {LEARNER_USER}...\")\n",
    "\n",
    "main_goal = \"The user's primary goal is to learn Python for data science, specifically to get a job in analytics.\"\n",
    "\n",
    "memory.add(main_goal, user_id=LEARNER_USER)\n",
    "\n",
    "print(f\"Goal stored: '{main_goal}'\")\n",
    "\n",
    "# Wait for indexing\n",
    "print(\"Waiting 2 seconds for goal to index...\")\n",
    "time.sleep(2)"
   ]
  },
  {
   "cell_type": "markdown",
   "id": "dc6c8014",
   "metadata": {},
   "source": [
    "## Part 2: Progress Tracking (A Later Conversation)\n",
    "\n",
    "A week later, the user checks in and reports what they've done. We will use `infer=True` to let the agent automatically understand and log this progress."
   ]
  },
  {
   "cell_type": "code",
   "execution_count": 4,
   "id": "38cbfd37",
   "metadata": {},
   "outputs": [
    {
     "name": "stdout",
     "output_type": "stream",
     "text": [
      "Simulating progress check-in conversation...\n",
      "\n",
      "Agent extracted 2 new memories from the conversation:\n",
      "- Finished 'Intro to Pandas' course.\n",
      "- Understands DataFrames now.\n",
      "\n",
      "Waiting 2 seconds for progress to index...\n"
     ]
    }
   ],
   "source": [
    "print(\"Simulating progress check-in conversation...\")\n",
    "\n",
    "progress_conversation = [\n",
    "    {\"role\": \"user\", \"content\": \"Hey! Just wanted to update you. I finished that 'Intro to Pandas' course you mentioned.\"}, \n",
    "    {\"role\": \"assistant\", \"content\": \"That's fantastic progress! Well done.\"},\n",
    "    {\"role\": \"user\", \"content\": \"It was great, I feel like I understand DataFrames now, but I'm not sure what to learn next.\"}\n",
    "]\n",
    "\n",
    "# Use infer=True to let the AI extract the key facts\n",
    "result = memory.add(progress_conversation, user_id=LEARNER_USER, infer=True)\n",
    "\n",
    "print(f\"\\nAgent extracted {len(result['results'])} new memories from the conversation:\")\n",
    "for mem in result['results']:\n",
    "    print(f\"- {mem['memory']}\")\n",
    "\n",
    "# Wait for indexing\n",
    "print(\"\\nWaiting 2 seconds for progress to index...\")\n",
    "time.sleep(2)"
   ]
  },
  {
   "cell_type": "markdown",
   "id": "3c97a9b8",
   "metadata": {},
   "source": [
    "## Part 3: Proactive Agent Logic (The Weekly Check-in)\n",
    "\n",
    "This is the core of the agent. Imagine this code runs on a schedule (e.g., every Monday).\n",
    "\n",
    "1.  **Search:** The agent searches its memory for the user's goals and latest progress.\n",
    "2.  **Think:** It feeds this context into an LLM with a specific system prompt.\n",
    "3.  **Act:** It generates a proactive, personalized message to coach the user."
   ]
  },
  {
   "cell_type": "code",
   "execution_count": 5,
   "id": "1a38ded5",
   "metadata": {},
   "outputs": [
    {
     "name": "stdout",
     "output_type": "stream",
     "text": [
      "--- [AGENT WAKES UP] ---\n",
      "Running proactive check-in for user: python_learner_88\n",
      "\n",
      "[AGENT LOGIC] Searching memory for user's profile...\n",
      "[AGENT LOGIC] Building context from memories...\n",
      "--- DEBUG: Agent is 'thinking' with this prompt --- \n",
      "System: You are a friendly and proactive AI Learning Coach. Your goal is to send a single, encouraging check-in message to your student. Look at their main goal and their most recent progress, then suggest the *next logical step* in their learning journey. Keep it concise and actionable.\n",
      "User/Trigger: Based on this context, write the check-in message for the user.\n",
      "\n",
      "CONTEXT:\n",
      "Here is what I know about this student:\n",
      "- The user's primary goal is to learn Python for data science, specifically to get a job in analytics.\n",
      "- Understands DataFrames now.\n",
      "\n",
      "--------------------------------------------------\n",
      "\n",
      "[AGENT LOGIC] Generating proactive message...\n",
      "--- [AGENT ACTION] ---\n",
      "Agent sends the following message to the user:\n",
      "\n",
      "\"Hi! Exciting progress with understanding DataFrames! With your current foundation, it's time to dive into manipulating and analyzing your datasets. I recommend starting with Pandas' GroupBy function and learning how to handle missing values. Not only will this be a valuable skill for data analysis, but you'll also get to practice working with real-world datasets. Start with some tutorials or examples and build from there! What do you think?\"\n"
     ]
    }
   ],
   "source": [
    "def run_proactive_coach_agent(user_id):\n",
    "    print(f\"--- [AGENT WAKES UP] ---\")\n",
    "    print(f\"Running proactive check-in for user: {user_id}\\n\")\n",
    "    \n",
    "    # 1. Search: Agent retrieves all relevant memories\n",
    "    print(\"[AGENT LOGIC] Searching memory for user's profile...\")\n",
    "    # We use a broad query to get all learning-related info\n",
    "    memory_results = memory.search(\"user learning goals and progress\", user_id=user_id)\n",
    "    \n",
    "    # 2. Think: Agent builds its context and system prompt\n",
    "    print(\"[AGENT LOGIC] Building context from memories...\")\n",
    "    context_str = \"\"\n",
    "    if memory_results['results']:\n",
    "        context_str = \"Here is what I know about this student:\\n\"\n",
    "        for mem in memory_results['results']:\n",
    "            context_str += f\"- {mem['memory']}\\n\"\n",
    "    else:\n",
    "        print(\"No memories found for user.\")\n",
    "        return\n",
    "    \n",
    "    # This is the agent's \"personality\" and \"goal\"\n",
    "    system_prompt = (\n",
    "        \"You are a friendly and proactive AI Learning Coach. \"\n",
    "        \"Your goal is to send a single, encouraging check-in message to your student. \"\n",
    "        \"Look at their main goal and their most recent progress, then suggest the *next logical step* in their learning journey. \"\n",
    "        \"Keep it concise and actionable.\"\n",
    "    )\n",
    "    \n",
    "    # This is the prompt that *triggers* the agent's action\n",
    "    user_trigger_prompt = f\"Based on this context, write the check-in message for the user.\\n\\nCONTEXT:\\n{context_str}\"\n",
    "    \n",
    "    print(f\"--- DEBUG: Agent is 'thinking' with this prompt --- \")\n",
    "    print(f\"System: {system_prompt}\")\n",
    "    print(f\"User/Trigger: {user_trigger_prompt}\")\n",
    "    print(\"--------------------------------------------------\\n\")\n",
    "    \n",
    "    # 3. Act: Agent generates the proactive message\n",
    "    print(\"[AGENT LOGIC] Generating proactive message...\")\n",
    "    response = client.chat.completions.create(\n",
    "        model=\"meta-llama/llama-3.1-8b-instruct\",\n",
    "        messages=[\n",
    "            {\"role\": \"system\", \"content\": system_prompt},\n",
    "            {\"role\": \"user\", \"content\": user_trigger_prompt}\n",
    "        ]\n",
    "    )\n",
    "    \n",
    "    generated_message = response.choices[0].message.content\n",
    "    \n",
    "    print(\"--- [AGENT ACTION] ---\")\n",
    "    print(\"Agent sends the following message to the user:\\n\")\n",
    "    print(generated_message)\n",
    "    \n",
    "# --- Run the Agent ---\n",
    "run_proactive_coach_agent(LEARNER_USER)"
   ]
  },
  {
   "cell_type": "markdown",
   "id": "2b41dfe0",
   "metadata": {},
   "source": [
    "## 4. Analysis & Next Steps\n",
    "\n",
    "Notice the output. The agent didn't just say \"Hi.\" It remembered:\n",
    "1.  **The Goal:** \"data science\" / \"analytics\"\n",
    "2.  **The Progress:** \"finished Pandas\"\n",
    "3.  **The Blocker:** \"not sure what to learn next\"\n",
    "\n",
    "It correctly suggested that the next logical step after Pandas is often **data visualization** (e.g., Matplotlib or Seaborn), which directly serves the user's main goal.\n",
    "\n",
    "As a final step, the agent could even store its *own* recommendation in the memory, so it doesn't suggest the same thing next week."
   ]
  },
  {
   "cell_type": "code",
   "execution_count": 8,
   "id": "99c2c319",
   "metadata": {},
   "outputs": [
    {
     "name": "stdout",
     "output_type": "stream",
     "text": [
      "Agent is saving its own action to memory...\n",
      "Action saved. Waiting to index...\n",
      "\n",
      "--- Complete Memory Log for User ---\n",
      "Using broad search to retrieve all memories...\n",
      "1. Agent proactively suggested the user learn Matplotlib/Seaborn for data visualization next.\n"
     ]
    }
   ],
   "source": [
    "print(\"Agent is saving its own action to memory...\")\n",
    "\n",
    "agent_action = \"Agent proactively suggested the user learn Matplotlib/Seaborn for data visualization next.\"\n",
    "\n",
    "memory.add(agent_action, user_id=LEARNER_USER)\n",
    "\n",
    "print(\"Action saved. Waiting to index...\")\n",
    "time.sleep(2)\n",
    "\n",
    "# Now let's see the complete memory log for this user\n",
    "print(\"\\n--- Complete Memory Log for User ---\")\n",
    "\n",
    "# --- UPDATE ---\n",
    "# We'll use memory.search() with a broad query, as it proved reliable in the previous step\n",
    "# (memory.get_all() seems to be returning empty).\n",
    "print(\"Using broad search to retrieve all memories...\")\n",
    "all_memories = memory.search(\"user learning goals and progress\", user_id=LEARNER_USER)\n",
    "\n",
    "if all_memories['results']:\n",
    "    for i, mem in enumerate(all_memories['results']):\n",
    "        print(f\"{i+1}. {mem['memory']}\")\n",
    "else:\n",
    "    print(\"Could not retrieve memories.\")"
   ]
  },
  {
   "cell_type": "markdown",
   "id": "e2f07efd",
   "metadata": {},
   "source": [
    "## Conclusion\n",
    "\n",
    "This notebook presented a cookbook example for building a Proactive AI Learning Coach using Gravix Layer's Memory and Chat APIs.\n",
    "\n",
    "Key takeaways:\n",
    "\n",
    "- Memory can store explicit user goals and extract facts from conversations (use `infer=True` to automatically extract and store facts).\n",
    "- The agent pattern (Search → Think → Act) is effective for scheduled, proactive messaging.\n",
    "- Persisting agent actions back into memory lets the system avoid repeating suggestions and improves personalization over time.\n",
    "\n",
    "Next steps:\n",
    "\n",
    "- Add monitoring and logging for production readiness.\n",
    "- Extend to multi-user scenarios and persistent storage for long-term analysis.\n",
    "- Add tests for memory indexing and retrieval latency.\n"
   ]
  }
 ],
 "metadata": {
  "kernelspec": {
   "display_name": "Python 3 (ipykernel)",
   "language": "python",
   "name": "python3"
  },
  "language_info": {
   "codemirror_mode": {
    "name": "ipython",
    "version": 3
   },
   "file_extension": ".py",
   "mimetype": "text/x-python",
   "name": "python",
   "nbconvert_exporter": "python",
   "pygments_lexer": "ipython3",
   "version": "3.10.12"
  }
 },
 "nbformat": 4,
 "nbformat_minor": 5
}
